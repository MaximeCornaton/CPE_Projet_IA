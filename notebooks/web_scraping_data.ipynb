{
 "cells": [
  {
   "cell_type": "markdown",
   "metadata": {},
   "source": [
    "# WEB SCRAPING "
   ]
  },
  {
   "cell_type": "markdown",
   "metadata": {},
   "source": [
    "## Importing the required libraries"
   ]
  },
  {
   "cell_type": "code",
   "execution_count": 1,
   "metadata": {},
   "outputs": [],
   "source": [
    "import requests\n",
    "from bs4 import BeautifulSoup"
   ]
  },
  {
   "cell_type": "markdown",
   "metadata": {},
   "source": [
    "## Scraping the data from the website"
   ]
  },
  {
   "cell_type": "code",
   "execution_count": 23,
   "metadata": {},
   "outputs": [],
   "source": [
    "langs = ['fr', 'en', 'es', 'de', 'it']\n",
    "base_url = 'wikipedia.org/wiki'\n",
    "\n",
    "def get_wiki_page(lang, page):\n",
    "    url = f'https://{lang}.{base_url}/' + page\n",
    "    response = requests.get(url)\n",
    "    if response.status_code == 200:\n",
    "        return response.text\n",
    "    else:\n",
    "        return None\n",
    "    \n",
    "def get_wiki_links(lang, page):\n",
    "    html = get_wiki_page(lang, page)\n",
    "    if html:\n",
    "        soup = BeautifulSoup(html, 'html.parser')\n",
    "        links = soup.select('a[href*=\"/wiki/\"]')\n",
    "        return links\n",
    "    else:\n",
    "        return None\n",
    "    \n",
    "def get_wiki_page_title(lang, page):\n",
    "    html = get_wiki_page(lang, page)\n",
    "    if html:\n",
    "        soup = BeautifulSoup(html, 'html.parser')\n",
    "        title = soup.select('h1#firstHeading')[0].text\n",
    "        return title\n",
    "    else:\n",
    "        return None\n",
    "    \n",
    "def get_wiki_page_content(lang, page):\n",
    "    html = get_wiki_page(lang, page)\n",
    "    if html:\n",
    "        soup = BeautifulSoup(html, 'html.parser')\n",
    "        content = soup.select('div#mw-content-text')[0].text\n",
    "        return content\n",
    "    else:\n",
    "        return None\n",
    "\n",
    "page = ''\n",
    "lang = 'fr'\n",
    "content = get_wiki_page_content(lang, page)\n",
    "#print(content)"
   ]
  },
  {
   "cell_type": "code",
   "execution_count": 30,
   "metadata": {},
   "outputs": [
    {
     "data": {
      "text/plain": [
       "True"
      ]
     },
     "execution_count": 30,
     "metadata": {},
     "output_type": "execute_result"
    }
   ],
   "source": [
    "saving_path = '../data/test/'\n",
    "\n",
    "def save_wiki_page_content(lang, page):\n",
    "    content = get_wiki_page_content(lang, page)\n",
    "    if content:\n",
    "        with open(f'{saving_path}/{lang}/{get_wiki_page_title(lang,page)}.txt', 'w') as f:\n",
    "            f.write(content)\n",
    "        return True\n",
    "    else:\n",
    "        return False\n",
    "    \n",
    "page = ''\n",
    "lang = 'fr'\n",
    "save_wiki_page_content(lang, page)"
   ]
  }
 ],
 "metadata": {
  "kernelspec": {
   "display_name": "Python 3",
   "language": "python",
   "name": "python3"
  },
  "language_info": {
   "codemirror_mode": {
    "name": "ipython",
    "version": 3
   },
   "file_extension": ".py",
   "mimetype": "text/x-python",
   "name": "python",
   "nbconvert_exporter": "python",
   "pygments_lexer": "ipython3",
   "version": "3.11.6"
  }
 },
 "nbformat": 4,
 "nbformat_minor": 2
}
