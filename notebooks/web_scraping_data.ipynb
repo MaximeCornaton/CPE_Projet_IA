{
 "cells": [
  {
   "cell_type": "markdown",
   "metadata": {},
   "source": [
    "# WEB SCRAPING "
   ]
  },
  {
   "cell_type": "markdown",
   "metadata": {},
   "source": [
    "## Importing the required libraries"
   ]
  },
  {
   "cell_type": "code",
   "execution_count": 22,
   "metadata": {},
   "outputs": [],
   "source": [
    "import requests\n",
    "from bs4 import BeautifulSoup\n",
    "\n",
    "import sys\n",
    "sys.path.append('..')\n",
    "from utils.file_utils import create_folder_if_not_exists\n",
    "from utils.file_utils import remove_files_in_folder\n",
    "from utils.file_utils import file_exists"
   ]
  },
  {
   "cell_type": "markdown",
   "metadata": {},
   "source": [
    "## Scraping the data from the website"
   ]
  },
  {
   "cell_type": "code",
   "execution_count": 23,
   "metadata": {},
   "outputs": [],
   "source": [
    "langs = ['fr', 'en', 'es', 'de', 'it']\n",
    "base_url = 'wikipedia.org/wiki'\n",
    "\n",
    "def get_wiki_page(lang : str, page : str):\n",
    "    url = f'https://{lang}.{base_url}/' + page\n",
    "    response = requests.get(url)\n",
    "    if response.status_code == 200:\n",
    "        return response.text\n",
    "    else:\n",
    "        return None\n",
    "    \n",
    "def get_wiki_pages_links_from_html(html : str):\n",
    "    if html:\n",
    "        soup = BeautifulSoup(html, 'html.parser')\n",
    "        links = soup.select('a[href*=\"/wiki/\"]')\n",
    "        return links\n",
    "    else:\n",
    "        return None\n",
    "    \n",
    "def get_wiki_pages_links(lang : str, page : str):\n",
    "    html = get_wiki_page(lang, page)\n",
    "    return get_wiki_pages_links_from_html(html)\n",
    "\n",
    "def get_wiki_page_title_from_html(html : str):\n",
    "    if html:\n",
    "        soup = BeautifulSoup(html, 'html.parser')\n",
    "        title = soup.select('h1#firstHeading')[0].text\n",
    "        return title\n",
    "    else:\n",
    "        return None\n",
    "    \n",
    "def get_wiki_page_title(lang : str, page : str):\n",
    "    html = get_wiki_page(lang, page)\n",
    "    return get_wiki_page_title_from_html(html)\n",
    "    \n",
    "def get_wiki_page_content_from_html(html : str):\n",
    "    if html:\n",
    "        soup = BeautifulSoup(html, 'html.parser')\n",
    "        content = soup.select('div#mw-content-text')[0].text\n",
    "        return content\n",
    "    else:\n",
    "        return None\n",
    "    \n",
    "def get_wiki_page_content(lang : str, page : str):\n",
    "    html = get_wiki_page(lang, page)\n",
    "    return get_wiki_page_content_from_html(html)\n",
    "\n",
    "page = ''\n",
    "lang = 'fr'\n",
    "content = get_wiki_page_content(lang, page)\n",
    "#print(content)"
   ]
  },
  {
   "cell_type": "code",
   "execution_count": 40,
   "metadata": {},
   "outputs": [
    {
     "data": {
      "text/plain": [
       "False"
      ]
     },
     "execution_count": 40,
     "metadata": {},
     "output_type": "execute_result"
    }
   ],
   "source": [
    "saving_path = '../data/train/'\n",
    "\n",
    "def save_wiki_page_content(lang : str, page : str):\n",
    "    wiki_page = get_wiki_page(lang, page)\n",
    "    content = get_wiki_page_content_from_html(wiki_page)\n",
    "    if content:\n",
    "        title = get_wiki_page_title_from_html(wiki_page)\n",
    "        \n",
    "        create_folder_if_not_exists(f'{saving_path}/{lang}')\n",
    "        \n",
    "        if file_exists(f'{saving_path}/{lang}/{title}.txt'):\n",
    "            #print(f'{title}.txt already exists')\n",
    "            return False\n",
    "        \n",
    "        try:\n",
    "            with open(f'{saving_path}/{lang}/{title}.txt', 'w') as f:\n",
    "                f.write(content)\n",
    "        except:\n",
    "            print(f'Error while saving {title}.txt')\n",
    "            return False\n",
    "        return True\n",
    "    else:\n",
    "        print(f'Error while getting {title}.txt')\n",
    "        return False\n",
    "    \n",
    "    \n",
    "page = ''\n",
    "lang = 'fr'\n",
    "save_wiki_page_content(lang, page)"
   ]
  },
  {
   "cell_type": "code",
   "execution_count": 41,
   "metadata": {},
   "outputs": [
    {
     "name": "stdout",
     "output_type": "stream",
     "text": [
      "1 files saved for fr\n",
      "2 files saved for fr\n",
      "3 files saved for fr\n",
      "4 files saved for fr\n",
      "5 files saved for fr\n",
      "6 files saved for fr\n",
      "7 files saved for fr\n"
     ]
    },
    {
     "ename": "KeyboardInterrupt",
     "evalue": "",
     "output_type": "error",
     "traceback": [
      "\u001b[0;31m---------------------------------------------------------------------------\u001b[0m",
      "\u001b[0;31mKeyboardInterrupt\u001b[0m                         Traceback (most recent call last)",
      "\u001b[1;32m/Users/maxime/DEV/CPE/CPE_Projet_IA/notebooks/web_scraping_data.ipynb Cell 7\u001b[0m line \u001b[0;36m4\n\u001b[1;32m     <a href='vscode-notebook-cell:/Users/maxime/DEV/CPE/CPE_Projet_IA/notebooks/web_scraping_data.ipynb#X15sZmlsZQ%3D%3D?line=44'>45</a>\u001b[0m clear_all_folders()\n\u001b[1;32m     <a href='vscode-notebook-cell:/Users/maxime/DEV/CPE/CPE_Projet_IA/notebooks/web_scraping_data.ipynb#X15sZmlsZQ%3D%3D?line=45'>46</a>\u001b[0m \u001b[39mfor\u001b[39;00m lang \u001b[39min\u001b[39;00m langs:\n\u001b[0;32m---> <a href='vscode-notebook-cell:/Users/maxime/DEV/CPE/CPE_Projet_IA/notebooks/web_scraping_data.ipynb#X15sZmlsZQ%3D%3D?line=46'>47</a>\u001b[0m     save_wiki_pages_content(lang, page)\n",
      "\u001b[1;32m/Users/maxime/DEV/CPE/CPE_Projet_IA/notebooks/web_scraping_data.ipynb Cell 7\u001b[0m line \u001b[0;36m3\n\u001b[1;32m     <a href='vscode-notebook-cell:/Users/maxime/DEV/CPE/CPE_Projet_IA/notebooks/web_scraping_data.ipynb#X15sZmlsZQ%3D%3D?line=31'>32</a>\u001b[0m                 \u001b[39mif\u001b[39;00m link\u001b[39m.\u001b[39mstartswith(\u001b[39m'\u001b[39m\u001b[39m/wiki/\u001b[39m\u001b[39m'\u001b[39m):\n\u001b[1;32m     <a href='vscode-notebook-cell:/Users/maxime/DEV/CPE/CPE_Projet_IA/notebooks/web_scraping_data.ipynb#X15sZmlsZQ%3D%3D?line=32'>33</a>\u001b[0m                     link \u001b[39m=\u001b[39m link[\u001b[39m6\u001b[39m:]\n\u001b[0;32m---> <a href='vscode-notebook-cell:/Users/maxime/DEV/CPE/CPE_Projet_IA/notebooks/web_scraping_data.ipynb#X15sZmlsZQ%3D%3D?line=33'>34</a>\u001b[0m                     save_wiki_pages_content(lang, link)\n\u001b[1;32m     <a href='vscode-notebook-cell:/Users/maxime/DEV/CPE/CPE_Projet_IA/notebooks/web_scraping_data.ipynb#X15sZmlsZQ%3D%3D?line=34'>35</a>\u001b[0m \u001b[39melse\u001b[39;00m:\n\u001b[1;32m     <a href='vscode-notebook-cell:/Users/maxime/DEV/CPE/CPE_Projet_IA/notebooks/web_scraping_data.ipynb#X15sZmlsZQ%3D%3D?line=35'>36</a>\u001b[0m     \u001b[39mprint\u001b[39m(\u001b[39mf\u001b[39m\u001b[39m'\u001b[39m\u001b[39mNo links found for \u001b[39m\u001b[39m{\u001b[39;00mlang\u001b[39m}\u001b[39;00m\u001b[39m'\u001b[39m)\n",
      "\u001b[1;32m/Users/maxime/DEV/CPE/CPE_Projet_IA/notebooks/web_scraping_data.ipynb Cell 7\u001b[0m line \u001b[0;36m3\n\u001b[1;32m     <a href='vscode-notebook-cell:/Users/maxime/DEV/CPE/CPE_Projet_IA/notebooks/web_scraping_data.ipynb#X15sZmlsZQ%3D%3D?line=31'>32</a>\u001b[0m                 \u001b[39mif\u001b[39;00m link\u001b[39m.\u001b[39mstartswith(\u001b[39m'\u001b[39m\u001b[39m/wiki/\u001b[39m\u001b[39m'\u001b[39m):\n\u001b[1;32m     <a href='vscode-notebook-cell:/Users/maxime/DEV/CPE/CPE_Projet_IA/notebooks/web_scraping_data.ipynb#X15sZmlsZQ%3D%3D?line=32'>33</a>\u001b[0m                     link \u001b[39m=\u001b[39m link[\u001b[39m6\u001b[39m:]\n\u001b[0;32m---> <a href='vscode-notebook-cell:/Users/maxime/DEV/CPE/CPE_Projet_IA/notebooks/web_scraping_data.ipynb#X15sZmlsZQ%3D%3D?line=33'>34</a>\u001b[0m                     save_wiki_pages_content(lang, link)\n\u001b[1;32m     <a href='vscode-notebook-cell:/Users/maxime/DEV/CPE/CPE_Projet_IA/notebooks/web_scraping_data.ipynb#X15sZmlsZQ%3D%3D?line=34'>35</a>\u001b[0m \u001b[39melse\u001b[39;00m:\n\u001b[1;32m     <a href='vscode-notebook-cell:/Users/maxime/DEV/CPE/CPE_Projet_IA/notebooks/web_scraping_data.ipynb#X15sZmlsZQ%3D%3D?line=35'>36</a>\u001b[0m     \u001b[39mprint\u001b[39m(\u001b[39mf\u001b[39m\u001b[39m'\u001b[39m\u001b[39mNo links found for \u001b[39m\u001b[39m{\u001b[39;00mlang\u001b[39m}\u001b[39;00m\u001b[39m'\u001b[39m)\n",
      "    \u001b[0;31m[... skipping similar frames: save_wiki_pages_content at line 34 (4 times)]\u001b[0m\n",
      "\u001b[1;32m/Users/maxime/DEV/CPE/CPE_Projet_IA/notebooks/web_scraping_data.ipynb Cell 7\u001b[0m line \u001b[0;36m3\n\u001b[1;32m     <a href='vscode-notebook-cell:/Users/maxime/DEV/CPE/CPE_Projet_IA/notebooks/web_scraping_data.ipynb#X15sZmlsZQ%3D%3D?line=31'>32</a>\u001b[0m                 \u001b[39mif\u001b[39;00m link\u001b[39m.\u001b[39mstartswith(\u001b[39m'\u001b[39m\u001b[39m/wiki/\u001b[39m\u001b[39m'\u001b[39m):\n\u001b[1;32m     <a href='vscode-notebook-cell:/Users/maxime/DEV/CPE/CPE_Projet_IA/notebooks/web_scraping_data.ipynb#X15sZmlsZQ%3D%3D?line=32'>33</a>\u001b[0m                     link \u001b[39m=\u001b[39m link[\u001b[39m6\u001b[39m:]\n\u001b[0;32m---> <a href='vscode-notebook-cell:/Users/maxime/DEV/CPE/CPE_Projet_IA/notebooks/web_scraping_data.ipynb#X15sZmlsZQ%3D%3D?line=33'>34</a>\u001b[0m                     save_wiki_pages_content(lang, link)\n\u001b[1;32m     <a href='vscode-notebook-cell:/Users/maxime/DEV/CPE/CPE_Projet_IA/notebooks/web_scraping_data.ipynb#X15sZmlsZQ%3D%3D?line=34'>35</a>\u001b[0m \u001b[39melse\u001b[39;00m:\n\u001b[1;32m     <a href='vscode-notebook-cell:/Users/maxime/DEV/CPE/CPE_Projet_IA/notebooks/web_scraping_data.ipynb#X15sZmlsZQ%3D%3D?line=35'>36</a>\u001b[0m     \u001b[39mprint\u001b[39m(\u001b[39mf\u001b[39m\u001b[39m'\u001b[39m\u001b[39mNo links found for \u001b[39m\u001b[39m{\u001b[39;00mlang\u001b[39m}\u001b[39;00m\u001b[39m'\u001b[39m)\n",
      "\u001b[1;32m/Users/maxime/DEV/CPE/CPE_Projet_IA/notebooks/web_scraping_data.ipynb Cell 7\u001b[0m line \u001b[0;36m2\n\u001b[1;32m     <a href='vscode-notebook-cell:/Users/maxime/DEV/CPE/CPE_Projet_IA/notebooks/web_scraping_data.ipynb#X15sZmlsZQ%3D%3D?line=16'>17</a>\u001b[0m     files_saved_per_lang[lang] \u001b[39m=\u001b[39m \u001b[39m0\u001b[39m\n\u001b[1;32m     <a href='vscode-notebook-cell:/Users/maxime/DEV/CPE/CPE_Projet_IA/notebooks/web_scraping_data.ipynb#X15sZmlsZQ%3D%3D?line=18'>19</a>\u001b[0m \u001b[39mif\u001b[39;00m files_saved_per_lang[lang] \u001b[39m<\u001b[39m max_files_per_lang:\n\u001b[0;32m---> <a href='vscode-notebook-cell:/Users/maxime/DEV/CPE/CPE_Projet_IA/notebooks/web_scraping_data.ipynb#X15sZmlsZQ%3D%3D?line=20'>21</a>\u001b[0m     \u001b[39mif\u001b[39;00m save_wiki_page_content(lang, page):\n\u001b[1;32m     <a href='vscode-notebook-cell:/Users/maxime/DEV/CPE/CPE_Projet_IA/notebooks/web_scraping_data.ipynb#X15sZmlsZQ%3D%3D?line=21'>22</a>\u001b[0m         files_saved_per_lang[lang] \u001b[39m+\u001b[39m\u001b[39m=\u001b[39m \u001b[39m1\u001b[39m\n\u001b[1;32m     <a href='vscode-notebook-cell:/Users/maxime/DEV/CPE/CPE_Projet_IA/notebooks/web_scraping_data.ipynb#X15sZmlsZQ%3D%3D?line=22'>23</a>\u001b[0m         \u001b[39mprint\u001b[39m(\u001b[39mf\u001b[39m\u001b[39m'\u001b[39m\u001b[39m{\u001b[39;00mfiles_saved_per_lang[lang]\u001b[39m}\u001b[39;00m\u001b[39m files saved for \u001b[39m\u001b[39m{\u001b[39;00mlang\u001b[39m}\u001b[39;00m\u001b[39m'\u001b[39m)\n",
      "\u001b[1;32m/Users/maxime/DEV/CPE/CPE_Projet_IA/notebooks/web_scraping_data.ipynb Cell 7\u001b[0m line \u001b[0;36m4\n\u001b[1;32m      <a href='vscode-notebook-cell:/Users/maxime/DEV/CPE/CPE_Projet_IA/notebooks/web_scraping_data.ipynb#X15sZmlsZQ%3D%3D?line=2'>3</a>\u001b[0m \u001b[39mdef\u001b[39;00m \u001b[39msave_wiki_page_content\u001b[39m(lang : \u001b[39mstr\u001b[39m, page : \u001b[39mstr\u001b[39m):\n\u001b[0;32m----> <a href='vscode-notebook-cell:/Users/maxime/DEV/CPE/CPE_Projet_IA/notebooks/web_scraping_data.ipynb#X15sZmlsZQ%3D%3D?line=3'>4</a>\u001b[0m     wiki_page \u001b[39m=\u001b[39m get_wiki_page(lang, page)\n\u001b[1;32m      <a href='vscode-notebook-cell:/Users/maxime/DEV/CPE/CPE_Projet_IA/notebooks/web_scraping_data.ipynb#X15sZmlsZQ%3D%3D?line=4'>5</a>\u001b[0m     content \u001b[39m=\u001b[39m get_wiki_page_content_from_html(wiki_page)\n\u001b[1;32m      <a href='vscode-notebook-cell:/Users/maxime/DEV/CPE/CPE_Projet_IA/notebooks/web_scraping_data.ipynb#X15sZmlsZQ%3D%3D?line=5'>6</a>\u001b[0m     \u001b[39mif\u001b[39;00m content:\n",
      "\u001b[1;32m/Users/maxime/DEV/CPE/CPE_Projet_IA/notebooks/web_scraping_data.ipynb Cell 7\u001b[0m line \u001b[0;36m6\n\u001b[1;32m      <a href='vscode-notebook-cell:/Users/maxime/DEV/CPE/CPE_Projet_IA/notebooks/web_scraping_data.ipynb#X15sZmlsZQ%3D%3D?line=3'>4</a>\u001b[0m \u001b[39mdef\u001b[39;00m \u001b[39mget_wiki_page\u001b[39m(lang : \u001b[39mstr\u001b[39m, page : \u001b[39mstr\u001b[39m):\n\u001b[1;32m      <a href='vscode-notebook-cell:/Users/maxime/DEV/CPE/CPE_Projet_IA/notebooks/web_scraping_data.ipynb#X15sZmlsZQ%3D%3D?line=4'>5</a>\u001b[0m     url \u001b[39m=\u001b[39m \u001b[39mf\u001b[39m\u001b[39m'\u001b[39m\u001b[39mhttps://\u001b[39m\u001b[39m{\u001b[39;00mlang\u001b[39m}\u001b[39;00m\u001b[39m.\u001b[39m\u001b[39m{\u001b[39;00mbase_url\u001b[39m}\u001b[39;00m\u001b[39m/\u001b[39m\u001b[39m'\u001b[39m \u001b[39m+\u001b[39m page\n\u001b[0;32m----> <a href='vscode-notebook-cell:/Users/maxime/DEV/CPE/CPE_Projet_IA/notebooks/web_scraping_data.ipynb#X15sZmlsZQ%3D%3D?line=5'>6</a>\u001b[0m     response \u001b[39m=\u001b[39m requests\u001b[39m.\u001b[39;49mget(url)\n\u001b[1;32m      <a href='vscode-notebook-cell:/Users/maxime/DEV/CPE/CPE_Projet_IA/notebooks/web_scraping_data.ipynb#X15sZmlsZQ%3D%3D?line=6'>7</a>\u001b[0m     \u001b[39mif\u001b[39;00m response\u001b[39m.\u001b[39mstatus_code \u001b[39m==\u001b[39m \u001b[39m200\u001b[39m:\n\u001b[1;32m      <a href='vscode-notebook-cell:/Users/maxime/DEV/CPE/CPE_Projet_IA/notebooks/web_scraping_data.ipynb#X15sZmlsZQ%3D%3D?line=7'>8</a>\u001b[0m         \u001b[39mreturn\u001b[39;00m response\u001b[39m.\u001b[39mtext\n",
      "File \u001b[0;32m/opt/homebrew/lib/python3.11/site-packages/requests/api.py:73\u001b[0m, in \u001b[0;36mget\u001b[0;34m(url, params, **kwargs)\u001b[0m\n\u001b[1;32m     62\u001b[0m \u001b[39mdef\u001b[39;00m \u001b[39mget\u001b[39m(url, params\u001b[39m=\u001b[39m\u001b[39mNone\u001b[39;00m, \u001b[39m*\u001b[39m\u001b[39m*\u001b[39mkwargs):\n\u001b[1;32m     63\u001b[0m \u001b[39m    \u001b[39m\u001b[39mr\u001b[39m\u001b[39m\"\"\"Sends a GET request.\u001b[39;00m\n\u001b[1;32m     64\u001b[0m \n\u001b[1;32m     65\u001b[0m \u001b[39m    :param url: URL for the new :class:`Request` object.\u001b[39;00m\n\u001b[0;32m   (...)\u001b[0m\n\u001b[1;32m     70\u001b[0m \u001b[39m    :rtype: requests.Response\u001b[39;00m\n\u001b[1;32m     71\u001b[0m \u001b[39m    \"\"\"\u001b[39;00m\n\u001b[0;32m---> 73\u001b[0m     \u001b[39mreturn\u001b[39;00m request(\u001b[39m\"\u001b[39;49m\u001b[39mget\u001b[39;49m\u001b[39m\"\u001b[39;49m, url, params\u001b[39m=\u001b[39;49mparams, \u001b[39m*\u001b[39;49m\u001b[39m*\u001b[39;49mkwargs)\n",
      "File \u001b[0;32m/opt/homebrew/lib/python3.11/site-packages/requests/api.py:59\u001b[0m, in \u001b[0;36mrequest\u001b[0;34m(method, url, **kwargs)\u001b[0m\n\u001b[1;32m     55\u001b[0m \u001b[39m# By using the 'with' statement we are sure the session is closed, thus we\u001b[39;00m\n\u001b[1;32m     56\u001b[0m \u001b[39m# avoid leaving sockets open which can trigger a ResourceWarning in some\u001b[39;00m\n\u001b[1;32m     57\u001b[0m \u001b[39m# cases, and look like a memory leak in others.\u001b[39;00m\n\u001b[1;32m     58\u001b[0m \u001b[39mwith\u001b[39;00m sessions\u001b[39m.\u001b[39mSession() \u001b[39mas\u001b[39;00m session:\n\u001b[0;32m---> 59\u001b[0m     \u001b[39mreturn\u001b[39;00m session\u001b[39m.\u001b[39;49mrequest(method\u001b[39m=\u001b[39;49mmethod, url\u001b[39m=\u001b[39;49murl, \u001b[39m*\u001b[39;49m\u001b[39m*\u001b[39;49mkwargs)\n",
      "File \u001b[0;32m/opt/homebrew/lib/python3.11/site-packages/requests/sessions.py:589\u001b[0m, in \u001b[0;36mSession.request\u001b[0;34m(self, method, url, params, data, headers, cookies, files, auth, timeout, allow_redirects, proxies, hooks, stream, verify, cert, json)\u001b[0m\n\u001b[1;32m    584\u001b[0m send_kwargs \u001b[39m=\u001b[39m {\n\u001b[1;32m    585\u001b[0m     \u001b[39m\"\u001b[39m\u001b[39mtimeout\u001b[39m\u001b[39m\"\u001b[39m: timeout,\n\u001b[1;32m    586\u001b[0m     \u001b[39m\"\u001b[39m\u001b[39mallow_redirects\u001b[39m\u001b[39m\"\u001b[39m: allow_redirects,\n\u001b[1;32m    587\u001b[0m }\n\u001b[1;32m    588\u001b[0m send_kwargs\u001b[39m.\u001b[39mupdate(settings)\n\u001b[0;32m--> 589\u001b[0m resp \u001b[39m=\u001b[39m \u001b[39mself\u001b[39;49m\u001b[39m.\u001b[39;49msend(prep, \u001b[39m*\u001b[39;49m\u001b[39m*\u001b[39;49msend_kwargs)\n\u001b[1;32m    591\u001b[0m \u001b[39mreturn\u001b[39;00m resp\n",
      "File \u001b[0;32m/opt/homebrew/lib/python3.11/site-packages/requests/sessions.py:703\u001b[0m, in \u001b[0;36mSession.send\u001b[0;34m(self, request, **kwargs)\u001b[0m\n\u001b[1;32m    700\u001b[0m start \u001b[39m=\u001b[39m preferred_clock()\n\u001b[1;32m    702\u001b[0m \u001b[39m# Send the request\u001b[39;00m\n\u001b[0;32m--> 703\u001b[0m r \u001b[39m=\u001b[39m adapter\u001b[39m.\u001b[39;49msend(request, \u001b[39m*\u001b[39;49m\u001b[39m*\u001b[39;49mkwargs)\n\u001b[1;32m    705\u001b[0m \u001b[39m# Total elapsed time of the request (approximately)\u001b[39;00m\n\u001b[1;32m    706\u001b[0m elapsed \u001b[39m=\u001b[39m preferred_clock() \u001b[39m-\u001b[39m start\n",
      "File \u001b[0;32m/opt/homebrew/lib/python3.11/site-packages/requests/adapters.py:538\u001b[0m, in \u001b[0;36mHTTPAdapter.send\u001b[0;34m(self, request, stream, timeout, verify, cert, proxies)\u001b[0m\n\u001b[1;32m    535\u001b[0m     \u001b[39melse\u001b[39;00m:\n\u001b[1;32m    536\u001b[0m         \u001b[39mraise\u001b[39;00m\n\u001b[0;32m--> 538\u001b[0m \u001b[39mreturn\u001b[39;00m \u001b[39mself\u001b[39;49m\u001b[39m.\u001b[39;49mbuild_response(request, resp)\n",
      "File \u001b[0;32m/opt/homebrew/lib/python3.11/site-packages/requests/adapters.py:323\u001b[0m, in \u001b[0;36mHTTPAdapter.build_response\u001b[0;34m(self, req, resp)\u001b[0m\n\u001b[1;32m    320\u001b[0m     response\u001b[39m.\u001b[39murl \u001b[39m=\u001b[39m req\u001b[39m.\u001b[39murl\n\u001b[1;32m    322\u001b[0m \u001b[39m# Add new cookies from the server.\u001b[39;00m\n\u001b[0;32m--> 323\u001b[0m extract_cookies_to_jar(response\u001b[39m.\u001b[39;49mcookies, req, resp)\n\u001b[1;32m    325\u001b[0m \u001b[39m# Give the Response some context.\u001b[39;00m\n\u001b[1;32m    326\u001b[0m response\u001b[39m.\u001b[39mrequest \u001b[39m=\u001b[39m req\n",
      "File \u001b[0;32m/opt/homebrew/lib/python3.11/site-packages/requests/cookies.py:137\u001b[0m, in \u001b[0;36mextract_cookies_to_jar\u001b[0;34m(jar, request, response)\u001b[0m\n\u001b[1;32m    135\u001b[0m \u001b[39m# pull out the HTTPMessage with the headers and put it in the mock:\u001b[39;00m\n\u001b[1;32m    136\u001b[0m res \u001b[39m=\u001b[39m MockResponse(response\u001b[39m.\u001b[39m_original_response\u001b[39m.\u001b[39mmsg)\n\u001b[0;32m--> 137\u001b[0m jar\u001b[39m.\u001b[39;49mextract_cookies(res, req)\n",
      "File \u001b[0;32m/opt/homebrew/Cellar/python@3.11/3.11.6_1/Frameworks/Python.framework/Versions/3.11/lib/python3.11/http/cookiejar.py:1685\u001b[0m, in \u001b[0;36mCookieJar.extract_cookies\u001b[0;34m(self, response, request)\u001b[0m\n\u001b[1;32m   1683\u001b[0m \u001b[39mself\u001b[39m\u001b[39m.\u001b[39m_cookies_lock\u001b[39m.\u001b[39macquire()\n\u001b[1;32m   1684\u001b[0m \u001b[39mtry\u001b[39;00m:\n\u001b[0;32m-> 1685\u001b[0m     \u001b[39mfor\u001b[39;00m cookie \u001b[39min\u001b[39;00m \u001b[39mself\u001b[39;49m\u001b[39m.\u001b[39;49mmake_cookies(response, request):\n\u001b[1;32m   1686\u001b[0m         \u001b[39mif\u001b[39;00m \u001b[39mself\u001b[39m\u001b[39m.\u001b[39m_policy\u001b[39m.\u001b[39mset_ok(cookie, request):\n\u001b[1;32m   1687\u001b[0m             _debug(\u001b[39m\"\u001b[39m\u001b[39m setting cookie: \u001b[39m\u001b[39m%s\u001b[39;00m\u001b[39m\"\u001b[39m, cookie)\n",
      "File \u001b[0;32m/opt/homebrew/Cellar/python@3.11/3.11.6_1/Frameworks/Python.framework/Versions/3.11/lib/python3.11/http/cookiejar.py:1626\u001b[0m, in \u001b[0;36mCookieJar.make_cookies\u001b[0;34m(self, response, request)\u001b[0m\n\u001b[1;32m   1623\u001b[0m \u001b[39mif\u001b[39;00m ns_hdrs \u001b[39mand\u001b[39;00m netscape:\n\u001b[1;32m   1624\u001b[0m     \u001b[39mtry\u001b[39;00m:\n\u001b[1;32m   1625\u001b[0m         \u001b[39m# RFC 2109 and Netscape cookies\u001b[39;00m\n\u001b[0;32m-> 1626\u001b[0m         ns_cookies \u001b[39m=\u001b[39m \u001b[39mself\u001b[39;49m\u001b[39m.\u001b[39;49m_cookies_from_attrs_set(\n\u001b[1;32m   1627\u001b[0m             parse_ns_headers(ns_hdrs), request)\n\u001b[1;32m   1628\u001b[0m     \u001b[39mexcept\u001b[39;00m \u001b[39mException\u001b[39;00m:\n\u001b[1;32m   1629\u001b[0m         _warn_unhandled_exception()\n",
      "File \u001b[0;32m/opt/homebrew/Cellar/python@3.11/3.11.6_1/Frameworks/Python.framework/Versions/3.11/lib/python3.11/http/cookiejar.py:1579\u001b[0m, in \u001b[0;36mCookieJar._cookies_from_attrs_set\u001b[0;34m(self, attrs_set, request)\u001b[0m\n\u001b[1;32m   1578\u001b[0m \u001b[39mdef\u001b[39;00m \u001b[39m_cookies_from_attrs_set\u001b[39m(\u001b[39mself\u001b[39m, attrs_set, request):\n\u001b[0;32m-> 1579\u001b[0m     cookie_tuples \u001b[39m=\u001b[39m \u001b[39mself\u001b[39;49m\u001b[39m.\u001b[39;49m_normalized_cookie_tuples(attrs_set)\n\u001b[1;32m   1581\u001b[0m     cookies \u001b[39m=\u001b[39m []\n\u001b[1;32m   1582\u001b[0m     \u001b[39mfor\u001b[39;00m tup \u001b[39min\u001b[39;00m cookie_tuples:\n",
      "File \u001b[0;32m/opt/homebrew/Cellar/python@3.11/3.11.6_1/Frameworks/Python.framework/Versions/3.11/lib/python3.11/http/cookiejar.py:1475\u001b[0m, in \u001b[0;36mCookieJar._normalized_cookie_tuples\u001b[0;34m(self, attrs_set)\u001b[0m\n\u001b[1;32m   1473\u001b[0m         bad_cookie \u001b[39m=\u001b[39m \u001b[39mTrue\u001b[39;00m\n\u001b[1;32m   1474\u001b[0m         \u001b[39mbreak\u001b[39;00m\n\u001b[0;32m-> 1475\u001b[0m     standard[k] \u001b[39m=\u001b[39m v\n\u001b[1;32m   1476\u001b[0m \u001b[39melse\u001b[39;00m:\n\u001b[1;32m   1477\u001b[0m     rest[k] \u001b[39m=\u001b[39m v\n",
      "\u001b[0;31mKeyboardInterrupt\u001b[0m: "
     ]
    }
   ],
   "source": [
    "max_files_per_lang = 10\n",
    "files_saved_per_lang = {}\n",
    "page = ''\n",
    "\n",
    "def clear_folder(lang : str):\n",
    "    remove_files_in_folder(f'{saving_path}/{lang}')\n",
    "    \n",
    "def clear_all_folders():\n",
    "    for lang in langs:\n",
    "        clear_folder(lang)\n",
    "        \n",
    "def save_pages_from_links(lang : str, links : list):\n",
    "    for link in links:\n",
    "        if link:\n",
    "            link = link['href']\n",
    "            if link:\n",
    "                if link.startswith('/wiki/'):\n",
    "                    link = link[6:]\n",
    "                    save_wiki_pages_content(lang, link)\n",
    "\n",
    "def save_wiki_pages_content(lang : str, page : str):\n",
    "    global files_saved_per_lang\n",
    "    global max_files_per_lang\n",
    "    \n",
    "    if lang not in files_saved_per_lang:\n",
    "        files_saved_per_lang[lang] = 0\n",
    "    \n",
    "    if files_saved_per_lang[lang] < max_files_per_lang:\n",
    "\n",
    "        if save_wiki_page_content(lang, page):\n",
    "            files_saved_per_lang[lang] += 1\n",
    "            print(f'{files_saved_per_lang[lang]} files saved for {lang}')\n",
    "            \n",
    "            # get links from page and save them\n",
    "            links = get_wiki_pages_links(lang, page)\n",
    "            save_pages_from_links(lang, links)\n",
    "            \n",
    "        else:\n",
    "            pass\n",
    "            # print(f'Error while saving {lang}')\n",
    "            \n",
    "    else:\n",
    "        print(f'{lang} already has {max_files_per_lang} files')\n",
    "          \n",
    "clear_all_folders()\n",
    "for lang in langs:\n",
    "    save_wiki_pages_content(lang, page)"
   ]
  }
 ],
 "metadata": {
  "kernelspec": {
   "display_name": "Python 3",
   "language": "python",
   "name": "python3"
  },
  "language_info": {
   "codemirror_mode": {
    "name": "ipython",
    "version": 3
   },
   "file_extension": ".py",
   "mimetype": "text/x-python",
   "name": "python",
   "nbconvert_exporter": "python",
   "pygments_lexer": "ipython3",
   "version": "3.11.6"
  }
 },
 "nbformat": 4,
 "nbformat_minor": 2
}
