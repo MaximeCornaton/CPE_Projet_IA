{
 "cells": [
  {
   "cell_type": "markdown",
   "metadata": {},
   "source": [
    "# WEB SCRAPING "
   ]
  },
  {
   "cell_type": "markdown",
   "metadata": {},
   "source": [
    "## Importing the required libraries"
   ]
  },
  {
   "cell_type": "code",
   "execution_count": 3,
   "metadata": {},
   "outputs": [],
   "source": [
    "import requests\n",
    "from bs4 import BeautifulSoup\n",
    "\n",
    "import sys\n",
    "sys.path.append('..')\n",
    "from utils.file_utils import create_folder_if_not_exists\n",
    "from utils.file_utils import remove_files_in_folder\n",
    "from utils.file_utils import file_exists"
   ]
  },
  {
   "cell_type": "markdown",
   "metadata": {},
   "source": [
    "## Scraping the data from the website"
   ]
  },
  {
   "cell_type": "code",
   "execution_count": 4,
   "metadata": {},
   "outputs": [],
   "source": [
    "langs = ['fr', 'en', 'es', 'de', 'it']\n",
    "base_url = 'wikipedia.org/wiki'\n",
    "\n",
    "def get_wiki_page(lang : str, page : str):\n",
    "    url = f'https://{lang}.{base_url}/' + page\n",
    "    response = requests.get(url)\n",
    "    if response.status_code == 200:\n",
    "        return response.text\n",
    "    else:\n",
    "        return None\n",
    "    \n",
    "def get_wiki_pages_links_from_html(html : str):\n",
    "    if html:\n",
    "        soup = BeautifulSoup(html, 'html.parser')\n",
    "        links = soup.select('a[href*=\"/wiki/\"]')\n",
    "        return links\n",
    "    else:\n",
    "        return None\n",
    "    \n",
    "def get_wiki_pages_links(lang : str, page : str):\n",
    "    html = get_wiki_page(lang, page)\n",
    "    return get_wiki_pages_links_from_html(html)\n",
    "\n",
    "def get_wiki_page_title_from_html(html : str):\n",
    "    if html:\n",
    "        soup = BeautifulSoup(html, 'html.parser')\n",
    "        title = soup.select('h1#firstHeading')[0].text\n",
    "        return title\n",
    "    else:\n",
    "        return None\n",
    "    \n",
    "def get_wiki_page_title(lang : str, page : str):\n",
    "    html = get_wiki_page(lang, page)\n",
    "    return get_wiki_page_title_from_html(html)\n",
    "    \n",
    "def get_wiki_page_content_from_html(html : str):\n",
    "    if html:\n",
    "        soup = BeautifulSoup(html, 'html.parser')\n",
    "        content = soup.select('div#mw-content-text')[0].text\n",
    "        return content\n",
    "    else:\n",
    "        return None\n",
    "    \n",
    "def get_wiki_page_content(lang : str, page : str):\n",
    "    html = get_wiki_page(lang, page)\n",
    "    return get_wiki_page_content_from_html(html)\n",
    "\n",
    "page = ''\n",
    "lang = 'fr'\n",
    "content = get_wiki_page_content(lang, page)\n",
    "#print(content)"
   ]
  },
  {
   "cell_type": "code",
   "execution_count": 5,
   "metadata": {},
   "outputs": [
    {
     "data": {
      "text/plain": [
       "True"
      ]
     },
     "execution_count": 5,
     "metadata": {},
     "output_type": "execute_result"
    }
   ],
   "source": [
    "saving_path = '../data/train/'\n",
    "\n",
    "def save_wiki_page_content(lang : str, page : str):\n",
    "    wiki_page = get_wiki_page(lang, page)\n",
    "    content = get_wiki_page_content_from_html(wiki_page)\n",
    "    if content:\n",
    "        title = get_wiki_page_title_from_html(wiki_page)\n",
    "        \n",
    "        create_folder_if_not_exists(f'{saving_path}/{lang}')\n",
    "        \n",
    "        if file_exists(f'{saving_path}/{lang}/{title}.txt'):\n",
    "            return False\n",
    "        \n",
    "        with open(f'{saving_path}/{lang}/{title}.txt', 'w') as f:\n",
    "            f.write(content)\n",
    "        return True\n",
    "    else:\n",
    "        return False\n",
    "    \n",
    "page = ''\n",
    "lang = 'fr'\n",
    "save_wiki_page_content(lang, page)"
   ]
  },
  {
   "cell_type": "code",
   "execution_count": 15,
   "metadata": {},
   "outputs": [
    {
     "data": {
      "text/plain": [
       "True"
      ]
     },
     "execution_count": 15,
     "metadata": {},
     "output_type": "execute_result"
    }
   ],
   "source": [
    "page = ''\n",
    "max_depth = 1\n",
    "\n",
    "def save_wiki_pages_content_recursively(lang : str, page : str, depth : int):\n",
    "    if depth > max_depth:\n",
    "        return\n",
    "    else:\n",
    "        links = get_wiki_pages_links(lang, page)\n",
    "        for link in links:\n",
    "            link = link['href']\n",
    "            if link.startswith('/wiki/'):\n",
    "                link = link[6:]\n",
    "                if ':' not in link:\n",
    "                    save_wiki_page_content(lang, link)\n",
    "                    save_wiki_pages_content_recursively(lang, link, depth + 1)\n",
    "          \n",
    "#remove_files_in_folder(f'{saving_path}/fr')       \n",
    "for lang in langs:\n",
    "    save_wiki_pages_content_recursively(lang, page, 0)"
   ]
  }
 ],
 "metadata": {
  "kernelspec": {
   "display_name": "Python 3",
   "language": "python",
   "name": "python3"
  },
  "language_info": {
   "codemirror_mode": {
    "name": "ipython",
    "version": 3
   },
   "file_extension": ".py",
   "mimetype": "text/x-python",
   "name": "python",
   "nbconvert_exporter": "python",
   "pygments_lexer": "ipython3",
   "version": "3.11.6"
  }
 },
 "nbformat": 4,
 "nbformat_minor": 2
}
