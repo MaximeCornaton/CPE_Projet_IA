{
 "cells": [
  {
   "cell_type": "markdown",
   "metadata": {},
   "source": [
    "# PREPROCESSING"
   ]
  },
  {
   "cell_type": "markdown",
   "metadata": {},
   "source": [
    "## Importing the required libraries"
   ]
  },
  {
   "cell_type": "code",
   "execution_count": 3,
   "metadata": {},
   "outputs": [],
   "source": [
    "import sys\n",
    "sys.path.append('..')\n",
    "from utils.file_utils import get_files_in_folder, create_folder_if_not_exists, remove_files_in_folder\n",
    "from utils.data_loader import load_text_data\n",
    "from utils.text_preprocessing import *"
   ]
  },
  {
   "cell_type": "markdown",
   "metadata": {},
   "source": [
    "## Preprocessing the raw data"
   ]
  },
  {
   "cell_type": "code",
   "execution_count": 5,
   "metadata": {},
   "outputs": [
    {
     "name": "stdout",
     "output_type": "stream",
     "text": [
      "Finished processing it\n",
      "Finished processing de\n",
      "Finished processing fr\n",
      "Finished processing es\n",
      "Finished processing en\n"
     ]
    }
   ],
   "source": [
    "path_raw_data = '../data/raw/'\n",
    "path_train_data = '../data/train/'\n",
    "\n",
    "def merge_files(path_raw_data_lang, path_train_data_lang, file_name):\n",
    "  files = get_files_in_folder(path_raw_data_lang)\n",
    "  for file in files:\n",
    "    lines = load_text_data(path_raw_data_lang + file)\n",
    "    for line in lines:\n",
    "        line = clean_line(line)\n",
    "        \n",
    "        if is_empty_line(line):\n",
    "            continue\n",
    "        if is_too_short(line, 5):\n",
    "            continue\n",
    "        if has_not_enough_words(line, 6):\n",
    "            continue\n",
    "        if has_a_link(line):\n",
    "            continue\n",
    "        if contains_one_of(line, ['wiki', 'Wiki']):\n",
    "            continue\n",
    "        if contains_curly_brackets(line):\n",
    "            continue\n",
    "        try :\n",
    "            with open(path_train_data_lang + file_name, 'a') as f:\n",
    "                f.write(line)\n",
    "        except:\n",
    "            print('Error writing file ' + path_train_data_lang + file_name)\n",
    "            continue\n",
    "            \n",
    "def file_content(path):\n",
    "    return load_text_data(path)\n",
    "\n",
    "for lang_file in get_files_in_folder(path_raw_data):\n",
    "    create_folder_if_not_exists(path_train_data + lang_file)\n",
    "    remove_files_in_folder(path_train_data + lang_file)\n",
    "    merge_files(path_raw_data + lang_file + '/', path_train_data + lang_file + '/', lang_file + '.txt')\n",
    "    print('Finished processing ' + lang_file)\n",
    "\n"
   ]
  }
 ],
 "metadata": {
  "kernelspec": {
   "display_name": "Python 3",
   "language": "python",
   "name": "python3"
  },
  "language_info": {
   "codemirror_mode": {
    "name": "ipython",
    "version": 3
   },
   "file_extension": ".py",
   "mimetype": "text/x-python",
   "name": "python",
   "nbconvert_exporter": "python",
   "pygments_lexer": "ipython3",
   "version": "3.11.6"
  }
 },
 "nbformat": 4,
 "nbformat_minor": 2
}
